{
 "cells": [
  {
   "cell_type": "markdown",
   "id": "d41c9e2d",
   "metadata": {},
   "source": [
    "## Can Place Flowers"
   ]
  },
  {
   "cell_type": "markdown",
   "id": "bcd2adfa",
   "metadata": {},
   "source": [
    "You have a long flowerbed in which some of the plots are planted, and some are not. However, flowers cannot be planted in adjacent plots.\n",
    "\n",
    "Given an integer array flowerbed containing 0's and 1's, where 0 means empty and 1 means not empty, and an integer n, return true if n new flowers can be planted in the flowerbed without violating the no-adjacent-flowers rule and false otherwise.\n",
    "\n",
    " \n",
    "\n",
    "Example 1:\n",
    "\n",
    "Input: flowerbed = [1,0,0,0,1], n = 1\n",
    "Output: true\n",
    "Example 2:\n",
    "\n",
    "Input: flowerbed = [1,0,0,0,1], n = 2\n",
    "Output: false\n",
    " \n",
    "\n",
    "Constraints:\n",
    "\n",
    "\"\"\"1 <= flowerbed.length <= 2 * 104\n",
    "flowerbed[i] is 0 or 1.\n",
    "There are no two adjacent flowers in flowerbed.\n",
    "0 <= n <= flowerbed.length\"\"\""
   ]
  },
  {
   "cell_type": "code",
   "execution_count": 5,
   "id": "e5269865",
   "metadata": {},
   "outputs": [
    {
     "name": "stdout",
     "output_type": "stream",
     "text": [
      "True\n",
      "True\n"
     ]
    }
   ],
   "source": [
    "flowerbed = [1,0,0,0,1]\n",
    "n = 1\n",
    "\n",
    "flowerbed_len = len(flowerbed)\n",
    "for i in range(flowerbed_len):\n",
    "    if flowerbed[i] == 1:\n",
    "        continue\n",
    "   \n",
    "    left_plot_free  = i == 0 or flowerbed[i - 1] == 0\n",
    "    right_plot_free = i == flowerbed_len - 1 or flowerbed[i + 1] == 0\n",
    "\n",
    "    if left_plot_free and right_plot_free:\n",
    "        flowerbed[i] = 1\n",
    "        n -= 1\n",
    "        if n <= 0:\n",
    "            print(True)\n",
    "\n",
    "print(n <= 0)"
   ]
  },
  {
   "cell_type": "code",
   "execution_count": 6,
   "id": "c504e3c6",
   "metadata": {},
   "outputs": [
    {
     "name": "stdout",
     "output_type": "stream",
     "text": [
      "False\n"
     ]
    }
   ],
   "source": [
    "flowerbed = [1,0,0,0,1]\n",
    "n = 2\n",
    "\n",
    "flowerbed_len = len(flowerbed)\n",
    "for i in range(flowerbed_len):\n",
    "    if flowerbed[i] == 1:\n",
    "        continue\n",
    "   \n",
    "    left_plot_free  = i == 0 or flowerbed[i - 1] == 0\n",
    "    right_plot_free = i == flowerbed_len - 1 or flowerbed[i + 1] == 0\n",
    "\n",
    "    if left_plot_free and right_plot_free:\n",
    "        flowerbed[i] = 1\n",
    "        n -= 1\n",
    "        if n <= 0:\n",
    "            print(True)\n",
    "\n",
    "print(n <= 0)"
   ]
  },
  {
   "cell_type": "code",
   "execution_count": null,
   "id": "58b46bda",
   "metadata": {},
   "outputs": [],
   "source": []
  }
 ],
 "metadata": {
  "kernelspec": {
   "display_name": "Python 3",
   "language": "python",
   "name": "python3"
  },
  "language_info": {
   "codemirror_mode": {
    "name": "ipython",
    "version": 3
   },
   "file_extension": ".py",
   "mimetype": "text/x-python",
   "name": "python",
   "nbconvert_exporter": "python",
   "pygments_lexer": "ipython3",
   "version": "3.8.8"
  }
 },
 "nbformat": 4,
 "nbformat_minor": 5
}
