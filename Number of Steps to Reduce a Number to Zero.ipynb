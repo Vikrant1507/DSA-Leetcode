{
 "cells": [
  {
   "cell_type": "markdown",
   "id": "6358fc44",
   "metadata": {},
   "source": [
    "## Number of Steps to Reduce a Number to Zero"
   ]
  },
  {
   "cell_type": "markdown",
   "id": "43b15f0d",
   "metadata": {},
   "source": [
    "Given an integer num, return the number of steps to reduce it to zero.\n",
    "\n",
    "In one step, if the current number is even, you have to divide it by 2, otherwise, you have to subtract 1 from it.\n",
    "\n",
    " \n",
    "\n",
    "Example 1:\n",
    "\n",
    "Input: num = 14\n",
    "Output: 6\n",
    "Explanation: \n",
    "Step 1) 14 is even; divide by 2 and obtain 7. \n",
    "Step 2) 7 is odd; subtract 1 and obtain 6.\n",
    "Step 3) 6 is even; divide by 2 and obtain 3. \n",
    "Step 4) 3 is odd; subtract 1 and obtain 2. \n",
    "Step 5) 2 is even; divide by 2 and obtain 1. \n",
    "Step 6) 1 is odd; subtract 1 and obtain 0.\n",
    "Example 2:\n",
    "\n",
    "Input: num = 8\n",
    "Output: 4\n",
    "Explanation: \n",
    "Step 1) 8 is even; divide by 2 and obtain 4. \n",
    "Step 2) 4 is even; divide by 2 and obtain 2. \n",
    "Step 3) 2 is even; divide by 2 and obtain 1. \n",
    "Step 4) 1 is odd; subtract 1 and obtain 0.\n",
    "Example 3:\n",
    "\n",
    "Input: num = 123\n",
    "Output: 12\n",
    " \n",
    "\n",
    "Constraints:\n",
    "\n",
    "0 <= num <= 106"
   ]
  },
  {
   "cell_type": "code",
   "execution_count": 2,
   "id": "7edc4a41",
   "metadata": {},
   "outputs": [
    {
     "name": "stdout",
     "output_type": "stream",
     "text": [
      "Number of steps to reduce 14 to 0 is: 6\n"
     ]
    }
   ],
   "source": [
    "class Solution:\n",
    "    def numberOfSteps(self, num: int) -> int:\n",
    "        steps = 0  # Initialize a variable to count steps\n",
    "\n",
    "        while num > 0:  # Continue the loop until the number becomes 0\n",
    "            if num % 2 == 0:  # Check if the number is even\n",
    "                num = num // 2  # Divide the number by 2\n",
    "            else:\n",
    "                num -= 1  # If the number is odd, subtract 1\n",
    "            steps += 1  # Increment the steps counter for each operation\n",
    "\n",
    "        return steps  # Return the total number of steps taken\n",
    "\n",
    "# Create an instance of the Solution class\n",
    "sol = Solution()\n",
    "\n",
    "result = sol.numberOfSteps(14)\n",
    "print(\"Number of steps to reduce 14 to 0 is:\", result)\n"
   ]
  },
  {
   "cell_type": "code",
   "execution_count": 3,
   "id": "855dd27b",
   "metadata": {},
   "outputs": [
    {
     "name": "stdout",
     "output_type": "stream",
     "text": [
      "6\n"
     ]
    }
   ],
   "source": [
    "num=14\n",
    "steps=0\n",
    "while num >0:\n",
    "    if num % 2 == 0:\n",
    "        num =num//2\n",
    "    else:\n",
    "        num-=1\n",
    "    steps+=1\n",
    "print(steps)"
   ]
  },
  {
   "cell_type": "code",
   "execution_count": null,
   "id": "51f5c98d",
   "metadata": {},
   "outputs": [],
   "source": []
  }
 ],
 "metadata": {
  "kernelspec": {
   "display_name": "Python 3",
   "language": "python",
   "name": "python3"
  },
  "language_info": {
   "codemirror_mode": {
    "name": "ipython",
    "version": 3
   },
   "file_extension": ".py",
   "mimetype": "text/x-python",
   "name": "python",
   "nbconvert_exporter": "python",
   "pygments_lexer": "ipython3",
   "version": "3.8.8"
  }
 },
 "nbformat": 4,
 "nbformat_minor": 5
}
