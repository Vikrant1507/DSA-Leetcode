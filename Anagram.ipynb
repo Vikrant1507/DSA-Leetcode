{
 "cells": [
  {
   "cell_type": "markdown",
   "id": "426e5990",
   "metadata": {},
   "source": [
    "## Anagram"
   ]
  },
  {
   "cell_type": "code",
   "execution_count": null,
   "id": "50bbc5ff",
   "metadata": {},
   "outputs": [],
   "source": []
  },
  {
   "cell_type": "code",
   "execution_count": 1,
   "id": "8c809c49",
   "metadata": {},
   "outputs": [
    {
     "name": "stdout",
     "output_type": "stream",
     "text": [
      "True\n"
     ]
    }
   ],
   "source": [
    "class Solution:\n",
    "    def isAnagram(self, s: str, t: str) -> bool:\n",
    "        if len(s) != len(t):\n",
    "            return False\n",
    "        \n",
    "        # Create dictionaries to count occurrences of characters in both strings\n",
    "        count_s = {}\n",
    "        count_t = {}\n",
    "        \n",
    "        # Count occurrences of characters in string s\n",
    "        for char in s:\n",
    "            count_s[char] = count_s.get(char, 0) + 1\n",
    "        \n",
    "        # Count occurrences of characters in string t\n",
    "        for char in t:\n",
    "            count_t[char] = count_t.get(char, 0) + 1\n",
    "        \n",
    "        # Check if both dictionaries have the same character counts\n",
    "        return count_s == count_t\n",
    "\n",
    "sol = Solution()\n",
    "result = sol.isAnagram(\"anagram\", \"nagaram\")\n",
    "print(result)  # Output will be True or False based on whether the strings are anagrams\n"
   ]
  },
  {
   "cell_type": "code",
   "execution_count": null,
   "id": "9b647c45",
   "metadata": {},
   "outputs": [],
   "source": [
    "if len(s) != len(t):\n",
    "    return False\n",
    "        \n",
    "# Create dictionaries to count occurrences of characters in both strings\n",
    "count_s = {}\n",
    "count_t = {}\n",
    "        \n",
    "# Count occurrences of characters in string s\n",
    "for char in s:\n",
    "    count_s[char] = count_s.get(char, 0) + 1\n",
    "        \n",
    "# Count occurrences of characters in string t\n",
    "for char in t:\n",
    "    count_t[char] = count_t.get(char, 0) + 1\n",
    "        \n",
    "# Check if both dictionaries have the same character counts\n",
    "print(count_s == count_t)"
   ]
  }
 ],
 "metadata": {
  "kernelspec": {
   "display_name": "Python 3",
   "language": "python",
   "name": "python3"
  },
  "language_info": {
   "codemirror_mode": {
    "name": "ipython",
    "version": 3
   },
   "file_extension": ".py",
   "mimetype": "text/x-python",
   "name": "python",
   "nbconvert_exporter": "python",
   "pygments_lexer": "ipython3",
   "version": "3.8.8"
  }
 },
 "nbformat": 4,
 "nbformat_minor": 5
}
