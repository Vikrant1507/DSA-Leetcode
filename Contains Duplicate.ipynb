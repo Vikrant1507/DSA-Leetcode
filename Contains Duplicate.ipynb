{
 "cells": [
  {
   "cell_type": "markdown",
   "id": "79a386fc",
   "metadata": {},
   "source": [
    "## Contains Duplicate"
   ]
  },
  {
   "cell_type": "raw",
   "id": "9c423dfb",
   "metadata": {},
   "source": [
    "Given an integer array nums, return true if any value appears at least twice in the array, and return false if every element is distinct.\n",
    "\n",
    " \n",
    "\n",
    "Example 1:\n",
    "\n",
    "Input: nums = [1,2,3,1]\n",
    "Output: true\n",
    "Example 2:\n",
    "\n",
    "Input: nums = [1,2,3,4]\n",
    "Output: false\n",
    "Example 3:\n",
    "\n",
    "Input: nums = [1,1,1,3,3,4,3,2,4,2]\n",
    "Output: true"
   ]
  },
  {
   "cell_type": "code",
   "execution_count": 7,
   "id": "afc1d9a6",
   "metadata": {},
   "outputs": [
    {
     "name": "stdout",
     "output_type": "stream",
     "text": [
      "Does the list contain duplicates? True\n"
     ]
    }
   ],
   "source": [
    "from typing import List\n",
    "class Solution:\n",
    "    def containsDuplicate(self, nums: List[int]) -> bool:\n",
    "        num_set = set()\n",
    "        for num in nums:\n",
    "            if num in num_set:\n",
    "                return True\n",
    "            num_set.add(num)\n",
    "        return False\n",
    "\n",
    "sol = Solution()\n",
    "nums = [1, 2, 3, 4, 1]  # Example list with duplicates\n",
    "result = sol.containsDuplicate(nums)\n",
    "print(\"Does the list contain duplicates?\", result)\n"
   ]
  },
  {
   "cell_type": "code",
   "execution_count": 14,
   "id": "eca7993d",
   "metadata": {},
   "outputs": [
    {
     "name": "stdout",
     "output_type": "stream",
     "text": [
      "True\n"
     ]
    }
   ],
   "source": [
    "nums = [1,1,1,3,3,4,3,2,4,2]\n",
    "num_set = set()\n",
    "\n",
    "for num in nums:\n",
    "    if num in num_set:\n",
    "        print(True)\n",
    "        break  # If a duplicate is found, print True and exit the loop\n",
    "    num_set.add(num)\n",
    "else:\n",
    "    print(False)  # If no duplicates are found after the loop completes, print False\n"
   ]
  },
  {
   "cell_type": "code",
   "execution_count": null,
   "id": "908a1c82",
   "metadata": {},
   "outputs": [],
   "source": []
  }
 ],
 "metadata": {
  "kernelspec": {
   "display_name": "Python 3",
   "language": "python",
   "name": "python3"
  },
  "language_info": {
   "codemirror_mode": {
    "name": "ipython",
    "version": 3
   },
   "file_extension": ".py",
   "mimetype": "text/x-python",
   "name": "python",
   "nbconvert_exporter": "python",
   "pygments_lexer": "ipython3",
   "version": "3.8.8"
  }
 },
 "nbformat": 4,
 "nbformat_minor": 5
}
