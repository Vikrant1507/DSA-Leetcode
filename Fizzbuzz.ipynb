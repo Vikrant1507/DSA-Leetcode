{
 "cells": [
  {
   "cell_type": "raw",
   "id": "e9842a7f",
   "metadata": {},
   "source": [
    "1672. Richest Customer Wealth\n",
    "\n",
    "Hint\n",
    "You are given an m x n integer grid accounts where accounts[i][j] is the amount of money the ith customer has in the jth  bank. Return the wealth that the richest customer has.\n",
    "\n",
    "A customer's wealth is the amount of money they have in all their bank accounts. The richest customer is the customer that has the maximum wealth.\n",
    "\n",
    " \n",
    "\n",
    "Example 1:\n",
    "\n",
    "Input: accounts = [[1,2,3],[3,2,1]]\n",
    "Output: 6\n",
    "Explanation:\n",
    "1st customer has wealth = 1 + 2 + 3 = 6\n",
    "2nd customer has wealth = 3 + 2 + 1 = 6\n",
    "Both customers are considered the richest with a wealth of 6 each, so return 6.\n",
    "Example 2:\n",
    "\n",
    "Input: accounts = [[1,5],[7,3],[3,5]]\n",
    "Output: 10\n",
    "Explanation: \n",
    "1st customer has wealth = 6\n",
    "2nd customer has wealth = 10 \n",
    "3rd customer has wealth = 8\n",
    "The 2nd customer is the richest with a wealth of 10.\n",
    "Example 3:\n",
    "\n",
    "Input: accounts = [[2,8,7],[7,1,3],[1,9,5]]\n",
    "Output: 17\n",
    " \n",
    "\n",
    "Constraints:\n",
    "\n",
    "m == accounts.length\n",
    "n == accounts[i].length\n",
    "1 <= m, n <= 50\n",
    "1 <= accounts[i][j] <= 100"
   ]
  },
  {
   "cell_type": "code",
   "execution_count": 7,
   "id": "0b1b9776",
   "metadata": {},
   "outputs": [
    {
     "name": "stdout",
     "output_type": "stream",
     "text": [
      "['1', '2', 'Fizz']\n",
      "['1', '2', 'Fizz', '4', 'Buzz']\n",
      "['1', '2', 'Fizz', '4', 'Buzz', 'Fizz', '7', '8', 'Fizz', 'Buzz', '11', 'Fizz', '13', '14', 'FizzBuzz']\n"
     ]
    }
   ],
   "source": [
    "from typing import List\n",
    "\n",
    "class Solution:\n",
    "    def fizzBuzz(self, n: int) -> List[str]:\n",
    "        output=[]\n",
    "        for i in range(1,n+1):\n",
    "            if i % 3 == 0:\n",
    "                ans='Fizz' \n",
    "                if i%5==0:\n",
    "                    ans+='Buzz'\n",
    "            elif i % 5 ==0:\n",
    "                ans = 'Buzz'\n",
    "            else:\n",
    "                ans= str(i)\n",
    "            output.append(ans)\n",
    "        return output\n",
    "    \n",
    "# Example usage\n",
    "solution_instance = Solution()\n",
    "\n",
    "# Calling the fizzBuzz() method on the instance with the argument 'n'\n",
    "result = solution_instance.fizzBuzz(3)\n",
    "print(result)\n",
    "\n",
    "result1 = solution_instance.fizzBuzz(5)\n",
    "print(result1)  \n",
    "\n",
    "result2 = solution_instance.fizzBuzz(15)\n",
    "print(result2)  "
   ]
  },
  {
   "cell_type": "code",
   "execution_count": null,
   "id": "a286d663",
   "metadata": {},
   "outputs": [],
   "source": []
  }
 ],
 "metadata": {
  "kernelspec": {
   "display_name": "Python 3",
   "language": "python",
   "name": "python3"
  },
  "language_info": {
   "codemirror_mode": {
    "name": "ipython",
    "version": 3
   },
   "file_extension": ".py",
   "mimetype": "text/x-python",
   "name": "python",
   "nbconvert_exporter": "python",
   "pygments_lexer": "ipython3",
   "version": "3.8.8"
  }
 },
 "nbformat": 4,
 "nbformat_minor": 5
}
