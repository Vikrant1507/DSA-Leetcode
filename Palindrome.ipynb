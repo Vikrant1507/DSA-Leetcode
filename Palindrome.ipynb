{
 "cells": [
  {
   "cell_type": "markdown",
   "id": "1753a890",
   "metadata": {},
   "source": [
    "##  Palindrome Number\n",
    "\n",
    "Given an integer x, return true if x is a palindrome, and false otherwise.\n",
    "\n",
    "Example 1:\n",
    "\n",
    "Input: x = 121\n",
    "Output: true\n",
    "Explanation: 121 reads as 121 from left to right and from right to left.\n",
    "Example 2:\n",
    "\n",
    "Input: x = -121\n",
    "Output: false\n",
    "Explanation: From left to right, it reads -121. From right to left, it becomes 121-. Therefore it is not a palindrome.\n",
    "Example 3:\n",
    "\n",
    "Input: x = 10\n",
    "Output: false\n",
    "Explanation: Reads 01 from right to left. Therefore it is not a palindrome.\n",
    " \n",
    "\n",
    "Constraints:\n",
    "\n",
    "-231 <= x <= 231 - 1"
   ]
  },
  {
   "cell_type": "code",
   "execution_count": 1,
   "id": "59f3290e",
   "metadata": {},
   "outputs": [
    {
     "name": "stdout",
     "output_type": "stream",
     "text": [
      "True\n",
      "False\n"
     ]
    }
   ],
   "source": [
    "class Solution:\n",
    "    def isPalindrome(self, x: int) -> bool:\n",
    "        x=str(x)\n",
    "        return x==x[::-1]\n",
    "sol = Solution()\n",
    "print(sol.isPalindrome(121))  # Output: True\n",
    "print(sol.isPalindrome(-121))  # Output: False"
   ]
  },
  {
   "cell_type": "code",
   "execution_count": 2,
   "id": "aba9c413",
   "metadata": {},
   "outputs": [
    {
     "name": "stdout",
     "output_type": "stream",
     "text": [
      "True\n",
      "False\n"
     ]
    }
   ],
   "source": [
    "class Solution:\n",
    "    def isPalindrome(self, x: int) -> bool:\n",
    "        if x < 0:  # If the number is negative, it can't be a palindrome\n",
    "            return False\n",
    "\n",
    "        # Initialize variables\n",
    "        reversed_num = 0\n",
    "        original_num = x\n",
    "\n",
    "        # Reverse the number\n",
    "        while x > 0:\n",
    "            digit = x % 10\n",
    "            reversed_num = reversed_num * 10 + digit\n",
    "            x //= 10\n",
    "\n",
    "        # Check if the reversed number is equal to the original number\n",
    "        return original_num == reversed_num\n",
    "\n",
    "# Example usage\n",
    "sol = Solution()\n",
    "print(sol.isPalindrome(121))  # Output: True\n",
    "print(sol.isPalindrome(-121))  # Output: False\n"
   ]
  },
  {
   "cell_type": "code",
   "execution_count": null,
   "id": "b9832eaf",
   "metadata": {},
   "outputs": [],
   "source": []
  }
 ],
 "metadata": {
  "kernelspec": {
   "display_name": "Python 3",
   "language": "python",
   "name": "python3"
  },
  "language_info": {
   "codemirror_mode": {
    "name": "ipython",
    "version": 3
   },
   "file_extension": ".py",
   "mimetype": "text/x-python",
   "name": "python",
   "nbconvert_exporter": "python",
   "pygments_lexer": "ipython3",
   "version": "3.8.8"
  }
 },
 "nbformat": 4,
 "nbformat_minor": 5
}
