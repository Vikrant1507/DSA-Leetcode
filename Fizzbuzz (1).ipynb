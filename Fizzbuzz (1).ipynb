{
 "cells": [
  {
   "cell_type": "raw",
   "id": "e9842a7f",
   "metadata": {},
   "source": [
    "412. Fizz Buzz\n",
    "\n",
    "Given an integer n, return a string array answer (1-indexed) where:\n",
    "\n",
    "answer[i] == \"FizzBuzz\" if i is divisible by 3 and 5.\n",
    "answer[i] == \"Fizz\" if i is divisible by 3.\n",
    "answer[i] == \"Buzz\" if i is divisible by 5.\n",
    "answer[i] == i (as a string) if none of the above conditions are true.\n",
    " \n",
    "\n",
    "Example 1:\n",
    "\n",
    "Input: n = 3\n",
    "Output: [\"1\",\"2\",\"Fizz\"]\n",
    "Example 2:\n",
    "\n",
    "Input: n = 5\n",
    "Output: [\"1\",\"2\",\"Fizz\",\"4\",\"Buzz\"]\n",
    "Example 3:\n",
    "\n",
    "Input: n = 15\n",
    "Output: [\"1\",\"2\",\"Fizz\",\"4\",\"Buzz\",\"Fizz\",\"7\",\"8\",\"Fizz\",\"Buzz\",\"11\",\"Fizz\",\"13\",\"14\",\"FizzBuzz\"]"
   ]
  },
  {
   "cell_type": "code",
   "execution_count": 7,
   "id": "0b1b9776",
   "metadata": {},
   "outputs": [
    {
     "name": "stdout",
     "output_type": "stream",
     "text": [
      "['1', '2', 'Fizz']\n",
      "['1', '2', 'Fizz', '4', 'Buzz']\n",
      "['1', '2', 'Fizz', '4', 'Buzz', 'Fizz', '7', '8', 'Fizz', 'Buzz', '11', 'Fizz', '13', '14', 'FizzBuzz']\n"
     ]
    }
   ],
   "source": [
    "from typing import List\n",
    "\n",
    "class Solution:\n",
    "    def fizzBuzz(self, n: int) -> List[str]:\n",
    "        output=[]\n",
    "        for i in range(1,n+1):\n",
    "            if i % 3 == 0:\n",
    "                ans='Fizz' \n",
    "                if i%5==0:\n",
    "                    ans+='Buzz'\n",
    "            elif i % 5 ==0:\n",
    "                ans = 'Buzz'\n",
    "            else:\n",
    "                ans= str(i)\n",
    "            output.append(ans)\n",
    "        return output\n",
    "    \n",
    "# Example usage\n",
    "solution_instance = Solution()\n",
    "\n",
    "# Calling the fizzBuzz() method on the instance with the argument 'n'\n",
    "result = solution_instance.fizzBuzz(3)\n",
    "print(result)\n",
    "\n",
    "result1 = solution_instance.fizzBuzz(5)\n",
    "print(result1)  \n",
    "\n",
    "result2 = solution_instance.fizzBuzz(15)\n",
    "print(result2)  "
   ]
  },
  {
   "cell_type": "code",
   "execution_count": null,
   "id": "a286d663",
   "metadata": {},
   "outputs": [],
   "source": []
  }
 ],
 "metadata": {
  "kernelspec": {
   "display_name": "Python 3",
   "language": "python",
   "name": "python3"
  },
  "language_info": {
   "codemirror_mode": {
    "name": "ipython",
    "version": 3
   },
   "file_extension": ".py",
   "mimetype": "text/x-python",
   "name": "python",
   "nbconvert_exporter": "python",
   "pygments_lexer": "ipython3",
   "version": "3.8.8"
  }
 },
 "nbformat": 4,
 "nbformat_minor": 5
}
