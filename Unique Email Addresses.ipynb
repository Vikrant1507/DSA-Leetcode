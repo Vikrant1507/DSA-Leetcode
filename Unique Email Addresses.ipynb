{
 "cells": [
  {
   "cell_type": "markdown",
   "id": "fcfceeb7",
   "metadata": {},
   "source": [
    "## Unique Email Addresses"
   ]
  },
  {
   "cell_type": "raw",
   "id": "4324b32a",
   "metadata": {},
   "source": [
    "Every valid email consists of a local name and a domain name, separated by the '@' sign. Besides lowercase letters, the email may contain one or more '.' or '+'.\n",
    "\n",
    "For example, in \"alice@leetcode.com\", \"alice\" is the local name, and \"leetcode.com\" is the domain name.\n",
    "If you add periods '.' between some characters in the local name part of an email address, mail sent there will be forwarded to the same address without dots in the local name. Note that this rule does not apply to domain names.\n",
    "\n",
    "For example, \"alice.z@leetcode.com\" and \"alicez@leetcode.com\" forward to the same email address.\n",
    "If you add a plus '+' in the local name, everything after the first plus sign will be ignored. This allows certain emails to be filtered. Note that this rule does not apply to domain names.\n",
    "\n",
    "For example, \"m.y+name@email.com\" will be forwarded to \"my@email.com\".\n",
    "It is possible to use both of these rules at the same time.\n",
    "\n",
    "Given an array of strings emails where we send one email to each emails[i], return the number of different addresses that actually receive mails."
   ]
  },
  {
   "cell_type": "code",
   "execution_count": 8,
   "id": "0dc3248e",
   "metadata": {},
   "outputs": [
    {
     "name": "stdout",
     "output_type": "stream",
     "text": [
      "Number of unique emails: 2\n"
     ]
    }
   ],
   "source": [
    "class Solution:\n",
    "    def numUniqueEmails(self, emails):\n",
    "        lookup = set()\n",
    "        for e in emails:\n",
    "            local, domain = e.split('@')\n",
    "            tmp = []\n",
    "            for c in local:\n",
    "                if c == '.':\n",
    "                    continue\n",
    "                if c == '+':\n",
    "                    break\n",
    "                tmp.append(c)\n",
    "            lookup.add(\"\".join(tmp) + '@' + domain)\n",
    "        return len(lookup)\n",
    "\n",
    "# Test the solution\n",
    "\n",
    "solution = Solution()\n",
    "test_emails = [\n",
    "\"test.email+alex@leetcode.com\",\"test.e.mail+bob.cathy@leetcode.com\",\"testemail+david@lee.tcode.com\"\n",
    "]\n",
    "unique_count = solution.numUniqueEmails(test_emails)\n",
    "print(\"Number of unique emails:\", unique_count)"
   ]
  },
  {
   "cell_type": "code",
   "execution_count": 9,
   "id": "44d9076d",
   "metadata": {},
   "outputs": [
    {
     "name": "stdout",
     "output_type": "stream",
     "text": [
      "Number of unique emails: 3\n"
     ]
    }
   ],
   "source": [
    "solution = Solution()\n",
    "test_emails = [\n",
    "\"a@leetcode.com\",\"b@leetcode.com\",\"c@leetcode.com\"\n",
    "]\n",
    "unique_count = solution.numUniqueEmails(test_emails)\n",
    "print(\"Number of unique emails:\", unique_count)"
   ]
  },
  {
   "cell_type": "code",
   "execution_count": null,
   "id": "87a444be",
   "metadata": {},
   "outputs": [],
   "source": []
  }
 ],
 "metadata": {
  "kernelspec": {
   "display_name": "Python 3",
   "language": "python",
   "name": "python3"
  },
  "language_info": {
   "codemirror_mode": {
    "name": "ipython",
    "version": 3
   },
   "file_extension": ".py",
   "mimetype": "text/x-python",
   "name": "python",
   "nbconvert_exporter": "python",
   "pygments_lexer": "ipython3",
   "version": "3.8.8"
  }
 },
 "nbformat": 4,
 "nbformat_minor": 5
}
